{
 "cells": [
  {
   "cell_type": "code",
   "execution_count": 3,
   "metadata": {},
   "outputs": [],
   "source": [
    "from branchynet import utils, visualize\n",
    "import numpy"
   ]
  },
  {
   "cell_type": "code",
   "execution_count": 8,
   "metadata": {},
   "outputs": [
    {
     "name": "stdout",
     "output_type": "stream",
     "text": [
      "[1. 1. 1. 1. 1. 1. 1. 1. 1. 1. 1. 1. 1. 1. 1. 1. 1.]\n",
      "[1.095149040222168, 0.5966503620147705, 0.6942422389984131, 0.5004456043243408, 0.4695427417755127, 0.4290809631347656, 0.45252275466918945, 0.427654504776001, 0.4338877201080322, 0.4029269218444824, 0.3959348201751709, 0.38142895698547363, 0.3854634761810303, 0.3866770267486572, 0.3884003162384033, 0.38639140129089355, 0.3866744041442871]\n",
      "[[0.0001], [0.0005], [0.001], [0.005], [0.01], [0.025], [0.05], [0.075], [0.1], [0.25], [0.5], [0.75], [1.0], [2.0], [3.0], [5.0], [10.0]]\n",
      "[array([916,  84]), array([955,  45]), array([964,  36]), array([981,  19]), array([989,  11]), array([993,   7]), array([996,   4]), array([996,   4]), array([996,   4]), array([999,   1]), array([999,   1]), array([1000,    0]), array([1000,    0]), array([1000,    0]), array([1000,    0]), array([1000,    0]), array([1000,    0])]\n",
      "1.0\n",
      "4.26109290123\n"
     ]
    }
   ],
   "source": [
    "g_accs=numpy.array([1.0, 1.0, 1.0, 1.0, 1.0, 1.0, 1.0, 1.0, 1.0, 1.0, 1.0, 1.0, 1.0, 1.0, 1.0, 1.0, 1.0])\n",
    "g_diffs=[1.095149040222168, 0.5966503620147705, 0.6942422389984131, 0.5004456043243408, 0.4695427417755127, 0.4290809631347656, 0.45252275466918945, 0.427654504776001, 0.4338877201080322, 0.4029269218444824, 0.3959348201751709, 0.38142895698547363, 0.3854634761810303, 0.3866770267486572, 0.3884003162384033, 0.38639140129089355, 0.3866744041442871]\n",
    "[[0.0001], [0.0005], [0.001], [0.005], [0.01], [0.025], [0.05], [0.075], [0.1], [0.25], [0.5], [0.75], [1.0], [2.0], [3.0], [5.0], [10.0]]\n",
    "\n",
    "g_ts=[[0.0001], [0.0005], [0.001], [0.005], [0.01], [0.025], [0.05], [0.075], [0.1], [0.25], [0.5], [0.75], [1.0], [2.0], [3.0], [5.0], [10.0]]\n",
    "g_exits=[[916, 84], [955, 45], [964, 36], [981, 19], [989, 11], [993, 7], [996, 4], [996, 4], [996, 4], [999, 1], [999, 1], [1000, 0], [1000, 0], [1000, 0], [1000, 0], [1000, 0], [1000, 0]]\n",
    "g_baseacc=1.0\n",
    "g_basediff=4.26109290123\n",
    "g_exits = [numpy.array(x) for x in g_exits]\n",
    "\n",
    "print(g_accs)\n",
    "print(g_diffs)\n",
    "print(g_ts)\n",
    "print(g_exits)\n",
    "print(g_baseacc)\n",
    "print(g_basediff)"
   ]
  },
  {
   "cell_type": "code",
   "execution_count": 9,
   "metadata": {},
   "outputs": [
    {
     "data": {
      "image/png": "[encoded data removed]",
      "text/plain": [
       "<Figure size 324x252 with 1 Axes>"
      ]
     },
     "metadata": {
      "needs_background": "light"
     },
     "output_type": "display_data"
    }
   ],
   "source": [
    "visualize.plot_line_tradeoff(g_accs, g_diffs, g_ts, g_exits, g_baseacc, g_basediff, all_samples=False, inc_amt=-0.0001,\n",
    "                             our_label='BranchyLeNet', orig_label='LeNet', xlabel='Runtime (ms)', \n",
    "                             title='LeNet GPU', output_path='_figs/lenet_gpu.pdf')"
   ]
  },
  {
   "cell_type": "code",
   "execution_count": 3,
   "metadata": {},
   "outputs": [
    {
     "name": "stdout",
     "output_type": "stream",
     "text": [
      "10000\n",
      "[[0.]\n",
      " [0.]\n",
      " [0.]\n",
      " [0.]\n",
      " [0.]\n",
      " [0.]\n",
      " [0.]\n",
      " [0.]\n",
      " [0.]\n",
      " [0.]]\n",
      "Hasan\n"
     ]
    }
   ],
   "source": [
    "import numpy as np\n",
    "\n",
    "x_data = np.loadtxt(\"data/x_data_test.txt\").reshape(10000, 1, 28, 28)\n",
    "print(x_data.shape[0])\n",
    "y_data = np.loadtxt(\"data/y_data_test.txt\").reshape(10000, 1)\n",
    "print(y_data[0:10])\n",
    "\n",
    "#print(\"Hasan\")"
   ]
  },
  {
   "cell_type": "code",
   "execution_count": 4,
   "metadata": {},
   "outputs": [
    {
     "name": "stdout",
     "output_type": "stream",
     "text": [
      "[[[0.         0.         0.         0.         0.         0.\n",
      "   0.         0.         0.         0.         0.         0.\n",
      "   0.         0.         0.         0.         0.         0.\n",
      "   0.         0.         0.         0.         0.         0.\n",
      "   0.         0.         0.         0.        ]\n",
      "  [0.         0.         0.         0.         0.         0.\n",
      "   0.         0.         0.         0.         0.         0.\n",
      "   0.         0.         0.         0.         0.         0.\n",
      "   0.         0.         0.         0.         0.         0.\n",
      "   0.         0.         0.         0.        ]\n",
      "  [0.         0.         0.         0.         0.         0.\n",
      "   0.         0.         0.         0.         0.         0.\n",
      "   0.         0.         0.         0.         0.         0.\n",
      "   0.         0.         0.         0.         0.         0.\n",
      "   0.         0.         0.         0.        ]\n",
      "  [0.         0.         0.         0.         0.         0.\n",
      "   0.         0.         0.         0.         0.         0.\n",
      "   0.         0.         0.         0.         0.         0.\n",
      "   0.         0.         0.         0.         0.         0.\n",
      "   0.         0.         0.         0.        ]\n",
      "  [0.         0.         0.         0.         0.         0.\n",
      "   0.         0.         0.         0.         0.         0.\n",
      "   0.04313726 0.58823532 0.99215686 0.79215688 0.12156863 0.\n",
      "   0.         0.         0.         0.         0.         0.\n",
      "   0.         0.         0.         0.        ]\n",
      "  [0.         0.         0.         0.         0.         0.\n",
      "   0.         0.         0.         0.         0.         0.\n",
      "   0.14509805 0.98431373 0.98431373 0.99215686 0.41960785 0.\n",
      "   0.         0.         0.         0.         0.         0.\n",
      "   0.         0.         0.         0.        ]\n",
      "  [0.         0.         0.         0.         0.         0.\n",
      "   0.         0.         0.         0.         0.         0.08235294\n",
      "   0.77254903 0.98431373 0.98431373 0.99215686 0.41960785 0.\n",
      "   0.         0.         0.         0.         0.         0.\n",
      "   0.         0.         0.         0.        ]\n",
      "  [0.         0.         0.         0.         0.         0.\n",
      "   0.         0.         0.         0.         0.43137255 0.74509805\n",
      "   0.98431373 0.98431373 0.98431373 0.99215686 0.66274512 0.42745098\n",
      "   0.24313726 0.         0.         0.         0.         0.\n",
      "   0.         0.         0.         0.        ]\n",
      "  [0.         0.         0.         0.         0.         0.\n",
      "   0.         0.         0.         0.         0.99215686 0.98431373\n",
      "   0.98431373 0.98431373 0.98431373 0.99215686 0.98431373 0.98431373\n",
      "   0.86274511 0.2        0.         0.         0.         0.\n",
      "   0.         0.         0.         0.        ]\n",
      "  [0.         0.         0.         0.         0.         0.\n",
      "   0.         0.         0.         0.71372551 1.         0.99215686\n",
      "   0.99215686 0.99215686 0.99215686 0.91764706 0.87058824 0.99215686\n",
      "   0.99215686 0.99215686 0.         0.         0.         0.\n",
      "   0.         0.         0.         0.        ]\n",
      "  [0.         0.         0.         0.         0.         0.\n",
      "   0.         0.         0.24705882 0.86666667 0.99215686 0.98431373\n",
      "   0.98431373 0.98431373 0.57647061 0.3019608  0.24313726 0.50196081\n",
      "   0.98431373 0.98431373 0.41176471 0.         0.         0.\n",
      "   0.         0.         0.         0.        ]\n",
      "  [0.         0.         0.         0.         0.         0.\n",
      "   0.         0.1254902  0.90588236 0.98431373 0.99215686 0.98431373\n",
      "   0.86274511 0.53725493 0.03921569 0.         0.         0.12156863\n",
      "   0.90196079 0.98431373 0.95294118 0.44313726 0.01960784 0.\n",
      "   0.         0.         0.         0.        ]\n",
      "  [0.         0.         0.         0.         0.         0.\n",
      "   0.         0.14509805 0.98431373 0.98431373 0.99215686 0.73725492\n",
      "   0.07843138 0.         0.         0.         0.         0.\n",
      "   0.42745098 0.98431373 0.99215686 0.98431373 0.13725491 0.\n",
      "   0.         0.         0.         0.        ]\n",
      "  [0.         0.         0.         0.         0.         0.\n",
      "   0.         0.14509805 0.98431373 0.98431373 0.78823531 0.11764706\n",
      "   0.         0.         0.         0.         0.         0.\n",
      "   0.12156863 0.78431374 0.99215686 0.98431373 0.13725491 0.\n",
      "   0.         0.         0.         0.        ]\n",
      "  [0.         0.         0.         0.         0.         0.\n",
      "   0.         0.14509805 0.99215686 0.99215686 0.         0.\n",
      "   0.         0.         0.         0.         0.         0.\n",
      "   0.1254902  0.79215688 1.         0.99215686 0.64313728 0.\n",
      "   0.         0.         0.         0.        ]\n",
      "  [0.         0.         0.         0.         0.         0.\n",
      "   0.         0.54901963 0.98431373 0.98431373 0.         0.\n",
      "   0.         0.         0.         0.         0.         0.\n",
      "   0.42745098 0.98431373 0.99215686 0.98431373 0.13725491 0.\n",
      "   0.         0.         0.         0.        ]\n",
      "  [0.         0.         0.         0.         0.         0.\n",
      "   0.         0.8509804  0.98431373 0.98431373 0.         0.\n",
      "   0.         0.         0.         0.         0.08235294 0.24705882\n",
      "   0.90588236 0.98431373 0.99215686 0.90196079 0.11764706 0.\n",
      "   0.         0.         0.         0.        ]\n",
      "  [0.         0.         0.         0.         0.         0.\n",
      "   0.         0.8509804  0.98431373 0.98431373 0.         0.\n",
      "   0.         0.         0.         0.         0.56470591 0.98431373\n",
      "   0.98431373 0.98431373 0.86666667 0.23921569 0.         0.\n",
      "   0.         0.         0.         0.        ]\n",
      "  [0.         0.         0.         0.         0.         0.\n",
      "   0.         0.8509804  0.98431373 0.98431373 0.         0.\n",
      "   0.         0.         0.         0.71372551 0.86666667 0.98431373\n",
      "   0.98431373 0.98431373 0.70588237 0.         0.         0.\n",
      "   0.         0.         0.         0.        ]\n",
      "  [0.         0.         0.         0.         0.         0.\n",
      "   0.         0.85490197 0.99215686 0.99215686 0.28627452 0.28627452\n",
      "   0.89411765 0.99215686 0.99215686 1.         0.99215686 0.99215686\n",
      "   0.99215686 0.99215686 0.         0.         0.         0.\n",
      "   0.         0.         0.         0.        ]\n",
      "  [0.         0.         0.         0.         0.         0.\n",
      "   0.         0.44313726 0.98431373 0.98431373 0.99215686 0.98431373\n",
      "   0.98431373 0.98431373 0.98431373 0.99215686 0.98431373 0.98431373\n",
      "   0.98431373 0.57647061 0.         0.         0.         0.\n",
      "   0.         0.         0.         0.        ]\n",
      "  [0.         0.         0.         0.         0.         0.\n",
      "   0.         0.12156863 0.90196079 0.98431373 0.99215686 0.98431373\n",
      "   0.98431373 0.98431373 0.98431373 0.99215686 0.90196079 0.74117649\n",
      "   0.13725491 0.03921569 0.         0.         0.         0.\n",
      "   0.         0.         0.         0.        ]\n",
      "  [0.         0.         0.         0.         0.         0.\n",
      "   0.         0.         0.24313726 0.55686277 0.99215686 0.98431373\n",
      "   0.98431373 0.98431373 0.98431373 0.99215686 0.41960785 0.\n",
      "   0.         0.         0.         0.         0.         0.\n",
      "   0.         0.         0.         0.        ]\n",
      "  [0.         0.         0.         0.         0.         0.\n",
      "   0.         0.         0.         0.         0.28235295 0.68235296\n",
      "   0.98431373 0.67843139 0.27843139 0.28235295 0.11764706 0.\n",
      "   0.         0.         0.         0.         0.         0.\n",
      "   0.         0.         0.         0.        ]\n",
      "  [0.         0.         0.         0.         0.         0.\n",
      "   0.         0.         0.         0.         0.         0.\n",
      "   0.         0.         0.         0.         0.         0.\n",
      "   0.         0.         0.         0.         0.         0.\n",
      "   0.         0.         0.         0.        ]\n",
      "  [0.         0.         0.         0.         0.         0.\n",
      "   0.         0.         0.         0.         0.         0.\n",
      "   0.         0.         0.         0.         0.         0.\n",
      "   0.         0.         0.         0.         0.         0.\n",
      "   0.         0.         0.         0.        ]\n",
      "  [0.         0.         0.         0.         0.         0.\n",
      "   0.         0.         0.         0.         0.         0.\n",
      "   0.         0.         0.         0.         0.         0.\n",
      "   0.         0.         0.         0.         0.         0.\n",
      "   0.         0.         0.         0.        ]\n",
      "  [0.         0.         0.         0.         0.         0.\n",
      "   0.         0.         0.         0.         0.         0.\n",
      "   0.         0.         0.         0.         0.         0.\n",
      "   0.         0.         0.         0.         0.         0.\n",
      "   0.         0.         0.         0.        ]]]\n"
     ]
    },
    {
     "name": "stderr",
     "output_type": "stream",
     "text": [
      "/home/peng/cooperating/venv/lib/python2.7/site-packages/ipykernel_launcher.py:23: UserWarning: loadtxt: Empty input file: \"../data_model2/data_y_100.txt\"\n"
     ]
    },
    {
     "ename": "ValueError",
     "evalue": "cannot reshape array of size 0 into shape (60000,1)",
     "output_type": "error",
     "traceback": [
      "\u001b[0;31m\u001b[0m",
      "\u001b[0;31mValueError\u001b[0mTraceback (most recent call last)",
      "\u001b[0;32m<ipython-input-4-4bbac7a666b0>\u001b[0m in \u001b[0;36m<module>\u001b[0;34m()\u001b[0m\n\u001b[1;32m     21\u001b[0m \u001b[0;32mprint\u001b[0m\u001b[0;34m(\u001b[0m\u001b[0mx_data\u001b[0m\u001b[0;34m[\u001b[0m\u001b[0;36m0\u001b[0m\u001b[0;34m]\u001b[0m\u001b[0;34m)\u001b[0m\u001b[0;34m\u001b[0m\u001b[0m\n\u001b[1;32m     22\u001b[0m \u001b[0;31m#saveYToFile(1)\u001b[0m\u001b[0;34m\u001b[0m\u001b[0;34m\u001b[0m\u001b[0m\n\u001b[0;32m---> 23\u001b[0;31m \u001b[0my_data\u001b[0m \u001b[0;34m=\u001b[0m \u001b[0mnp\u001b[0m\u001b[0;34m.\u001b[0m\u001b[0mloadtxt\u001b[0m\u001b[0;34m(\u001b[0m\u001b[0;34m\"../data_model2/data_y_100.txt\"\u001b[0m\u001b[0;34m)\u001b[0m\u001b[0;34m.\u001b[0m\u001b[0mreshape\u001b[0m\u001b[0;34m(\u001b[0m\u001b[0mnumber_of_samples\u001b[0m\u001b[0;34m,\u001b[0m \u001b[0;36m1\u001b[0m\u001b[0;34m)\u001b[0m\u001b[0;34m\u001b[0m\u001b[0m\n\u001b[0m\u001b[1;32m     24\u001b[0m \u001b[0;31m#print(y_data[0])\u001b[0m\u001b[0;34m\u001b[0m\u001b[0;34m\u001b[0m\u001b[0m\n",
      "\u001b[0;31mValueError\u001b[0m: cannot reshape array of size 0 into shape (60000,1)"
     ]
    }
   ],
   "source": [
    "#pend add\n",
    "import numpy as np\n",
    "def saveXToFile(data):\n",
    "    # save one sample to file\n",
    "    a_file = open(\"../data_model2/data_x_100.txt\", \"a+\")\n",
    "    np.savetxt(a_file, data.reshape(data.shape[0], -1))\n",
    "    a_file.close()\n",
    "    \n",
    "\n",
    "#saveXToFile(x_train[0])\n",
    "#saveXToFile(x_train[1])    \n",
    "number_of_samples = 60000\n",
    "#number_of_samples\n",
    "#x_data = np.loadtxt(\"data/x_data_train.txt\").reshape(number_of_samples, 1, 28, 28).flatten()\n",
    "\n",
    "def saveYToFile(y):\n",
    "    a_file = open(\"../data_model2/data_y_100.txt\", \"a+\")\n",
    "    np.savetxt(a_file, np.array([y]))\n",
    "    a_file.close()\n",
    "   \n",
    "print(x_data[0])\n",
    "#saveYToFile(1)\n",
    "y_data = np.loadtxt(\"../data_model2/data_y_100.txt\").reshape(number_of_samples, 1)\n",
    "#print(y_data[0])"
   ]
  },
  {
   "cell_type": "code",
   "execution_count": 11,
   "metadata": {},
   "outputs": [
    {
     "name": "stdout",
     "output_type": "stream",
     "text": [
      "x_data2.txt  y_data2.txt\n",
      "mv: cannot stat 'data/x_data1.txt': No such file or directory\n",
      "mv: cannot stat 'data/y_data1.txt': No such file or directory\n",
      "x_data2.txt  y_data2.txt\n"
     ]
    }
   ],
   "source": [
    "#!ls data/\n",
    "#!mv data/x_data.txt data/x_data2.txt \n",
    "#!mv data/y_data.txt data/y_data2.txt\n",
    "#!ls data/"
   ]
  },
  {
   "cell_type": "code",
   "execution_count": 12,
   "metadata": {},
   "outputs": [
    {
     "name": "stdout",
     "output_type": "stream",
     "text": [
      "x_data2.txt  y_data2.txt\r\n"
     ]
    }
   ],
   "source": [
    "!ls data/"
   ]
  },
  {
   "cell_type": "code",
   "execution_count": null,
   "metadata": {},
   "outputs": [],
   "source": []
  }
 ],
 "metadata": {
  "kernelspec": {
   "display_name": "Python 2",
   "language": "python",
   "name": "python2"
  },
  "language_info": {
   "codemirror_mode": {
    "name": "ipython",
    "version": 2
   },
   "file_extension": ".py",
   "mimetype": "text/x-python",
   "name": "python",
   "nbconvert_exporter": "python",
   "pygments_lexer": "ipython2",
   "version": "2.7.17"
  }
 },
 "nbformat": 4,
 "nbformat_minor": 2
}
